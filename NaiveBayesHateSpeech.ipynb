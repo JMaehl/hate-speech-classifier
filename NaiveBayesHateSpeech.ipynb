{
 "cells": [
  {
   "cell_type": "code",
   "execution_count": 1,
   "metadata": {},
   "outputs": [],
   "source": [
    "from time import time\n",
    "from sklearn.feature_extraction.text import TfidfVectorizer, CountVectorizer\n",
    "from sklearn.naive_bayes import MultinomialNB\n",
    "from sklearn import metrics\n",
    "import pandas as pd"
   ]
  },
  {
   "cell_type": "code",
   "execution_count": 2,
   "metadata": {},
   "outputs": [],
   "source": [
    "colnames=['0', '1']\n",
    "test_csv = pd.read_csv('C:/Users/U713884/Documents/Nordakademie/WPM Einführung in die KI/OwnPartitioning/hatespeech_test.csv', names=colnames, header=None, delimiter=';').astype('U') # path to file\n",
    "train_csv = pd.read_csv('C:/Users/U713884/Documents/Nordakademie/WPM Einführung in die KI/OwnPartitioning/hatespeech_train100.csv', names=colnames, header=None, delimiter=';').astype('U') # path to file\n",
    "\n",
    "train_x = train_csv['0']   \n",
    "train_y = train_csv['1']\n",
    "test_x = test_csv['0']\n",
    "test_y = test_csv['1']"
   ]
  },
  {
   "cell_type": "code",
   "execution_count": 3,
   "metadata": {},
   "outputs": [
    {
     "name": "stdout",
     "output_type": "stream",
     "text": [
      "                                                    0  1\n",
      "0                    hoe lay puppy eye sayin stay wit  1\n",
      "1                               swap meet bind beaner  0\n",
      "2   beautiful fairy pool near glenbrittle isle sky...  0\n",
      "3                          bitch crib cook cheese egg  1\n",
      "4   morning birdminus  min thee clock breakfast sh...  0\n",
      "..                                                ... ..\n",
      "95                          hoe bent worth lose sleep  1\n",
      "96                          mental asylum dalla texas  1\n",
      "97              ram dont wanna trash jeff fisher bout  0\n",
      "98  song truth wanna fuck bestfriend night onlyy b...  1\n",
      "99  run tree bird fly avoid erm target lack digest...  0\n",
      "\n",
      "[100 rows x 2 columns]\n",
      "                                                     0  1\n",
      "0                 bird feather stand peta stand sanity  0\n",
      "1    wake di morning pocket fill xtra pro slide thr...  1\n",
      "2           trash snd star scrape ur team snd pro team  0\n",
      "3                           nt ud pussy yourself pussy  1\n",
      "4                                   life bitch dog day  1\n",
      "..                                                 ... ..\n",
      "897  iu honorary student id cooler international st...  0\n",
      "898  girl colored people die holocaust picture holo...  0\n",
      "899                                        flappy bird  0\n",
      "900  arent stick garbage recycle im single fuck im ...  1\n",
      "901                                    post song guala  0\n",
      "\n",
      "[902 rows x 2 columns]\n"
     ]
    }
   ],
   "source": [
    "print (test_csv)\n",
    "print (train_csv)"
   ]
  },
  {
   "cell_type": "code",
   "execution_count": 4,
   "metadata": {},
   "outputs": [
    {
     "name": "stdout",
     "output_type": "stream",
     "text": [
      "0                   bird feather stand peta stand sanity\n",
      "1      wake di morning pocket fill xtra pro slide thr...\n",
      "2             trash snd star scrape ur team snd pro team\n",
      "3                             nt ud pussy yourself pussy\n",
      "4                                     life bitch dog day\n",
      "                             ...                        \n",
      "897    iu honorary student id cooler international st...\n",
      "898    girl colored people die holocaust picture holo...\n",
      "899                                          flappy bird\n",
      "900    arent stick garbage recycle im single fuck im ...\n",
      "901                                      post song guala\n",
      "Name: 0, Length: 902, dtype: object\n",
      "0      0\n",
      "1      1\n",
      "2      0\n",
      "3      1\n",
      "4      1\n",
      "      ..\n",
      "897    0\n",
      "898    0\n",
      "899    0\n",
      "900    1\n",
      "901    0\n",
      "Name: 1, Length: 902, dtype: object\n",
      "0                      hoe lay puppy eye sayin stay wit\n",
      "1                                 swap meet bind beaner\n",
      "2     beautiful fairy pool near glenbrittle isle sky...\n",
      "3                            bitch crib cook cheese egg\n",
      "4     morning birdminus  min thee clock breakfast sh...\n",
      "                            ...                        \n",
      "95                            hoe bent worth lose sleep\n",
      "96                            mental asylum dalla texas\n",
      "97                ram dont wanna trash jeff fisher bout\n",
      "98    song truth wanna fuck bestfriend night onlyy b...\n",
      "99    run tree bird fly avoid erm target lack digest...\n",
      "Name: 0, Length: 100, dtype: object\n",
      "0     1\n",
      "1     0\n",
      "2     0\n",
      "3     1\n",
      "4     0\n",
      "     ..\n",
      "95    1\n",
      "96    1\n",
      "97    0\n",
      "98    1\n",
      "99    0\n",
      "Name: 1, Length: 100, dtype: object\n"
     ]
    }
   ],
   "source": [
    "print (train_x)\n",
    "print (train_y)\n",
    "print (test_x)\n",
    "print (test_y)"
   ]
  },
  {
   "cell_type": "code",
   "execution_count": 5,
   "metadata": {},
   "outputs": [
    {
     "name": "stdout",
     "output_type": "stream",
     "text": [
      "Time taken to extract features from training data : 0.034000 seconds\n",
      "n_samples: 902, n_features: 2741\n"
     ]
    }
   ],
   "source": [
    "t = time() \n",
    "\n",
    "tf_vectorizer = TfidfVectorizer() \n",
    "\n",
    "X_train_tf = tf_vectorizer.fit_transform(train_x)\n",
    "\n",
    "duration = time() - t\n",
    "print(\"Time taken to extract features from training data : %f seconds\" % (duration))\n",
    "print(\"n_samples: %d, n_features: %d\" % X_train_tf.shape)"
   ]
  },
  {
   "cell_type": "code",
   "execution_count": 6,
   "metadata": {},
   "outputs": [
    {
     "name": "stdout",
     "output_type": "stream",
     "text": [
      "Time taken to extract features from test data : 0.002566 seconds\n",
      "n_samples: 100, n_features: 2741\n"
     ]
    }
   ],
   "source": [
    "t = time()\n",
    "X_test_tf = tf_vectorizer.transform(test_x)\n",
    "\n",
    "duration = time() - t\n",
    "print(\"Time taken to extract features from test data : %f seconds\" % (duration))\n",
    "print(\"n_samples: %d, n_features: %d\" % X_test_tf.shape)"
   ]
  },
  {
   "cell_type": "code",
   "execution_count": 7,
   "metadata": {},
   "outputs": [
    {
     "name": "stdout",
     "output_type": "stream",
     "text": [
      "train time: 0.004s\n"
     ]
    }
   ],
   "source": [
    "t = time()\n",
    "\n",
    "naive_bayes_classifier = MultinomialNB()\n",
    "naive_bayes_classifier.fit(X_train_tf, train_y)\n",
    "\n",
    "training_time = time() - t\n",
    "print(\"train time: %0.3fs\" % training_time)\n"
   ]
  },
  {
   "cell_type": "code",
   "execution_count": 8,
   "metadata": {},
   "outputs": [
    {
     "name": "stdout",
     "output_type": "stream",
     "text": [
      "test time:  0.003s\n",
      "accuracy:   0.890\n",
      "              precision    recall  f1-score   support\n",
      "\n",
      "    Positive       0.93      0.84      0.88        49\n",
      "    Negative       0.86      0.94      0.90        51\n",
      "\n",
      "    accuracy                           0.89       100\n",
      "   macro avg       0.89      0.89      0.89       100\n",
      "weighted avg       0.89      0.89      0.89       100\n",
      "\n",
      "confusion matrix:\n",
      "[[41  8]\n",
      " [ 3 48]]\n",
      "------------------------------\n"
     ]
    }
   ],
   "source": [
    "t = time()\n",
    "y_pred = naive_bayes_classifier.predict(X_test_tf)\n",
    "\n",
    "test_time = time() - t\n",
    "print(\"test time:  %0.3fs\" % test_time)\n",
    "\n",
    "score1 = metrics.accuracy_score(test_y, y_pred)\n",
    "print(\"accuracy:   %0.3f\" % score1)\n",
    "\n",
    "print(metrics.classification_report(test_y, y_pred,\n",
    "                                            target_names=['Positive', 'Negative']))\n",
    "\n",
    "print(\"confusion matrix:\")\n",
    "print(metrics.confusion_matrix(test_y, y_pred))\n",
    "\n",
    "print('------------------------------')\n"
   ]
  },
  {
   "cell_type": "code",
   "execution_count": null,
   "metadata": {},
   "outputs": [],
   "source": []
  }
 ],
 "metadata": {
  "kernelspec": {
   "display_name": "Python 3",
   "language": "python",
   "name": "python3"
  },
  "language_info": {
   "codemirror_mode": {
    "name": "ipython",
    "version": 3
   },
   "file_extension": ".py",
   "mimetype": "text/x-python",
   "name": "python",
   "nbconvert_exporter": "python",
   "pygments_lexer": "ipython3",
   "version": "3.8.3"
  }
 },
 "nbformat": 4,
 "nbformat_minor": 4
}
